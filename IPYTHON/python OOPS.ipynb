{
    "cells": [
        {
            "cell_type": "markdown",
            "metadata": {},
            "source": [
                "OOPS IN PYTHON"
            ]
        },
        {
            "cell_type": "code",
            "execution_count": 1,
            "metadata": {},
            "outputs": [
                {
                    "name": "stdout",
                    "output_type": "stream",
                    "text": [
                        "making a call\n"
                    ]
                }
            ],
            "source": [
                "class Phone:\n",
                "    def make(self):\n",
                "        print(\"making a call\")\n",
                "\n",
                "pi=Phone()\n",
                "pi.make()"
            ]
        },
        {
            "cell_type": "markdown",
            "metadata": {},
            "source": []
        },
        {
            "cell_type": "code",
            "execution_count": 13,
            "metadata": {},
            "outputs": [],
            "source": [
                "class Phone1:\n",
                "    price=35000\n",
                "    def __init__(self,color):\n",
                "        self.color2=color\n",
                "    def show(self):\n",
                "       print(self.color2,self.price)\n",
                "\n",
                "    @classmethod\n",
                "    def info(cls):\n",
                "        print(cls.price)\n"
            ]
        },
        {
            "cell_type": "code",
            "execution_count": 14,
            "metadata": {},
            "outputs": [
                {
                    "name": "stdout",
                    "output_type": "stream",
                    "text": [
                        "35000\n"
                    ]
                }
            ],
            "source": [
                "Phone1.info()"
            ]
        },
        {
            "cell_type": "code",
            "execution_count": 6,
            "metadata": {},
            "outputs": [
                {
                    "name": "stdout",
                    "output_type": "stream",
                    "text": [
                        "red 35000\n"
                    ]
                }
            ],
            "source": [
                "\n",
                "pi=Phone1(\"red\")\n",
                "pi.show()"
            ]
        },
        {
            "cell_type": "markdown",
            "metadata": {},
            "source": [
                "Constructor "
            ]
        },
        {
            "cell_type": "code",
            "execution_count": 18,
            "metadata": {},
            "outputs": [
                {
                    "name": "stdout",
                    "output_type": "stream",
                    "text": [
                        "name is Shivam age is 18 salary is  40000 marks is 96\n"
                    ]
                },
                {
                    "data": {
                        "text/plain": [
                            "'red'"
                        ]
                    },
                    "execution_count": 18,
                    "metadata": {},
                    "output_type": "execute_result"
                }
            ],
            "source": [
                "class emp(Phone1):\n",
                "    def __init__(self,color,name,age,salary,marks):\n",
                "        super().__init__(color)\n",
                "        self.nameemp=name\n",
                "        self.ageemp=age\n",
                "        self.salaryemp=salary\n",
                "        self.marksemp=marks\n",
                "    def details(self):\n",
                "        print(\"name is\",self.nameemp,\"age is\",self.ageemp,\"salary is \",self.salaryemp,\"marks is\",self.marksemp)\n",
                "\n",
                "\n",
                "emp1=emp(\"red\",\"Shivam\",18,40000,96)\n",
                "\n",
                "emp1.details()\n",
                "emp1.show()\n",
                "\n"
            ]
        }
    ],
    "metadata": {
        "kernelspec": {
            "display_name": "Python 3.10.2 64-bit (system)",
            "language": "python",
            "name": "python3"
        },
        "language_info": {
            "codemirror_mode": {
                "name": "ipython",
                "version": 3
            },
            "file_extension": ".py",
            "mimetype": "text/x-python",
            "name": "python",
            "nbconvert_exporter": "python",
            "pygments_lexer": "ipython3",
            "version": "3.10.2"
        },
        "orig_nbformat": 4,
        "vscode": {
            "interpreter": {
                "hash": "55ed6b03a6ffb2f1dcfbeeba415c37a15b1dd56e5c45debffbf91f3acc093dbe"
            }
        }
    },
    "nbformat": 4,
    "nbformat_minor": 2
}
