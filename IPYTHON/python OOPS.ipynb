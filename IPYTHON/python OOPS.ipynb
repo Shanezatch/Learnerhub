{
    "cells": [
        {
            "cell_type": "markdown",
            "source": [
                "OOPS IN PYTHON"
            ],
            "metadata": {}
        },
        {
            "cell_type": "code",
            "execution_count": 3,
            "source": [
                "class Phone:\r\n",
                "    def make(self):\r\n",
                "        print(\"making a call\")\r\n",
                "\r\n",
                "pi=Phone()\r\n",
                "pi.make()"
            ],
            "outputs": [
                {
                    "output_type": "stream",
                    "name": "stdout",
                    "text": [
                        "making a call\n"
                    ]
                }
            ],
            "metadata": {}
        },
        {
            "cell_type": "code",
            "execution_count": 13,
            "source": [
                "class Phone1:\r\n",
                "    def __init__(self,color):\r\n",
                "        self.color2=color\r\n",
                "    def show(self):\r\n",
                "       return self.color2\r\n",
                "\r\n",
                "pi=Phone1(\"red\")\r\n",
                "pi.show()"
            ],
            "outputs": [
                {
                    "output_type": "execute_result",
                    "data": {
                        "text/plain": [
                            "'red'"
                        ]
                    },
                    "metadata": {},
                    "execution_count": 13
                }
            ],
            "metadata": {}
        },
        {
            "cell_type": "markdown",
            "source": [
                "Constructor "
            ],
            "metadata": {}
        },
        {
            "cell_type": "code",
            "execution_count": 18,
            "source": [
                "class emp(Phone1):\r\n",
                "    def __init__(self,color,name,age,salary,marks):\r\n",
                "        super().__init__(color)\r\n",
                "        self.nameemp=name\r\n",
                "        self.ageemp=age\r\n",
                "        self.salaryemp=salary\r\n",
                "        self.marksemp=marks\r\n",
                "    def details(self):\r\n",
                "        print(\"name is\",self.nameemp,\"age is\",self.ageemp,\"salary is \",self.salaryemp,\"marks is\",self.marksemp)\r\n",
                "\r\n",
                "\r\n",
                "emp1=emp(\"red\",\"Shivam\",18,40000,96)\r\n",
                "\r\n",
                "emp1.details()\r\n",
                "emp1.show()\r\n",
                "\r\n"
            ],
            "outputs": [
                {
                    "output_type": "stream",
                    "name": "stdout",
                    "text": [
                        "name is Shivam age is 18 salary is  40000 marks is 96\n"
                    ]
                },
                {
                    "output_type": "execute_result",
                    "data": {
                        "text/plain": [
                            "'red'"
                        ]
                    },
                    "metadata": {},
                    "execution_count": 18
                }
            ],
            "metadata": {}
        }
    ],
    "metadata": {
        "orig_nbformat": 4,
        "language_info": {
            "name": "python",
            "version": "3.9.5",
            "mimetype": "text/x-python",
            "codemirror_mode": {
                "name": "ipython",
                "version": 3
            },
            "pygments_lexer": "ipython3",
            "nbconvert_exporter": "python",
            "file_extension": ".py"
        },
        "kernelspec": {
            "name": "python3",
            "display_name": "Python 3.9.5 64-bit"
        },
        "interpreter": {
            "hash": "a12d694c3ccac42055183a0ad11e659c6a2db5c6555ad2c8919d5814fd4e404f"
        }
    },
    "nbformat": 4,
    "nbformat_minor": 2
}