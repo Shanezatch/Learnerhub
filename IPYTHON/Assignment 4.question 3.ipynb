{
 "cells": [
  {
   "cell_type": "code",
   "execution_count": null,
   "metadata": {},
   "outputs": [],
   "source": [
    "import pandas as pd\n",
    "import numpy as np\n",
    "from scipy import integrate\n",
    "import seaborn as sns\n",
    "import matplotlib.pyplot as mp\n",
    "import plotly.offline as pyo\n",
    "import plotly.graph_objs as go;\n",
    "import pandas_datareader as datareader\n",
    "import datetime as dt\n",
    "import math\n",
    "from sklearn.utils import shuffle\n",
    "import warnings\n",
    "warnings.filterwarnings('ignore')\n"
   ]
  },
  {
   "cell_type": "markdown",
   "metadata": {},
   "source": [
    "#### Problem Statement 3\n",
    ":You are provided with the medical cost dataset. You need to predict individual medical costs billed by health insurance\n",
    "\n",
    ".Dataset Description:\n",
    "\n",
    "I.age: age of the primary beneficiary\n",
    "\n",
    "II.sex: gender of primary beneficiary female, male\n",
    "\n",
    "III.bmi: Body mass index, providing an understanding of the body, weights that are relatively high or low relative to height, an objective index of body\n",
    "\n",
    "IV.weight (kg / m ^ 2) using the ratio of height to weight, ideally 18.5 to 24.9\n",
    "\n",
    "V.children: Number of children covered by health insurance / Number of dependents\n",
    "\n",
    "VI.smoker: Smokes or not\n",
    "\n",
    "VII.region: the beneficiary's residential area in the US, northeast, southeast, southwest, northwest\n",
    "\n",
    "VIII.charges: Individual medical costs billed by health insurance\n",
    "\n",
    "\n",
    "Write a Python code to perform the following tasks mentioned:\n",
    "\n",
    "\n",
    "1.Load the data, check its shape and check for null values\n",
    "\n",
    "2.Convert categorical featuresto numerical values (Use One-Hot Encoding)\n",
    "\n",
    "3.Split the dataset for training and testing  \n",
    "\n",
    "4.Train the model using sklearn –Linear Regression\n",
    "\n",
    "5.Find the intercept and coefficient from the trained model \n",
    "\n",
    "6.Predict the prices of test data and evaluate the model using calculated r2 score and root mean squared erro"
   ]
  }
 ],
 "metadata": {
  "kernelspec": {
   "display_name": "Python 3.10.7 64-bit",
   "language": "python",
   "name": "python3"
  },
  "language_info": {
   "name": "python",
   "version": "3.10.7"
  },
  "orig_nbformat": 4,
  "vscode": {
   "interpreter": {
    "hash": "55ed6b03a6ffb2f1dcfbeeba415c37a15b1dd56e5c45debffbf91f3acc093dbe"
   }
  }
 },
 "nbformat": 4,
 "nbformat_minor": 2
}
