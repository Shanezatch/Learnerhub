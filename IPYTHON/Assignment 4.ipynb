{
 "cells": [
  {
   "cell_type": "code",
   "execution_count": 3,
   "metadata": {},
   "outputs": [],
   "source": [
    "import pandas as pd\n",
    "import numpy as np\n",
    "from scipy import integrate\n",
    "import seaborn as sns\n",
    "import matplotlib.pyplot as mp\n",
    "import plotly.offline as pyo\n",
    "import plotly.graph_objs as go\n",
    "import pandas_datareader as datareader\n",
    "import datetime as datetime_module\n",
    "import math\n",
    "from sklearn.utils import shuffle\n",
    "import warnings\n",
    "warnings.filterwarnings('ignore')\n"
   ]
  },
  {
   "cell_type": "markdown",
   "metadata": {},
   "source": [
    "### Problem Statement 1: "
   ]
  },
  {
   "cell_type": "markdown",
   "metadata": {},
   "source": [
    "The data (sample) were collected in São Paulo — Brazil, in a university, where there are some parties with groups of students from 18 to 28 years of age(average). The dataset used for this activity has 7 attributes, being a Target, with a period of one year. You have to predict the quantity of beer consumption basedon the features that contain climate conditions."
   ]
  },
  {
   "cell_type": "markdown",
   "metadata": {},
   "source": [
    "##### Dataset Description:\n",
    "I.Data: date of the record\n",
    "\n",
    "II.Temperatura Media (C): Average temperature of the day in celsius\n",
    "\n",
    "III.Temperatura Minima (C): Minimum temperature of the day in celsius\n",
    "\n",
    "IV.TemperaturaMaxima (C): Maximum temperature of the day in celsius\n",
    "\n",
    "V.Precipitacao (mm): Percipitation in mm\n",
    "\n",
    "VI.Final de Semana: If the day is the weekend or not\n",
    "\n",
    "VII.Consumo de cerveja (litros): Beer consumption in liters"
   ]
  },
  {
   "cell_type": "markdown",
   "metadata": {
    "tags": [
     "parameters"
    ]
   },
   "source": [
    "Write a Python code to perform the following tasks mentioned:\n",
    "\n",
    "1.Load the dataset, check its shape\n",
    "\n",
    "2.Rectify the data of the first four columns Hint:Check columns 'Temperatura Media (C)', 'Temperatura Minima (C)', 'TemperaturaMaxima (C)', and 'Precipitac’Fix the following errors present in these features\n",
    "\n",
    "3.Create new features using the 'Data' feature and the make 'Data' column as indexHint:Create a new feature 'Month' from the dates, consisting of the month of the year.Create a new feature 'Day' from the dates, consisting of the day of the week.Set values from the 'Data' column as indexes. Use code snippet:df1.set_index('Data',inplace=True)\n",
    "\n",
    "4.Handle null and duplicate values \n",
    "\n",
    "5.Check the data typeof the features and convert them to the appropriate data type \n",
    "\n",
    "6.Analyze features with outlier values  \n",
    "\n",
    "7.Plot and analyze the correlation \n",
    "\n",
    "8.Split the dataset for training and testing \n",
    "\n",
    "9.Train a linear regression model and print the intercept and coefficients 10.Evaluate the model using the R2 score, mean absolute error, and root mean squared error "
   ]
  },
  {
   "cell_type": "code",
   "execution_count": 5,
   "metadata": {},
   "outputs": [
    {
     "ename": "SyntaxError",
     "evalue": "invalid syntax (2778416141.py, line 1)",
     "output_type": "error",
     "traceback": [
      "\u001b[1;36m  Cell \u001b[1;32mIn [5], line 1\u001b[1;36m\u001b[0m\n\u001b[1;33m    data=pd.read_csv(D:\\Shane\\study material\\CSV\\Consumo_cerveja.csv)\u001b[0m\n\u001b[1;37m                      ^\u001b[0m\n\u001b[1;31mSyntaxError\u001b[0m\u001b[1;31m:\u001b[0m invalid syntax\n"
     ]
    }
   ],
   "source": [
    "data=pd.read_csv(D:\\Shane\\study material\\CSV\\Consumo_cerveja.csv)"
   ]
  }
 ],
 "metadata": {
  "kernelspec": {
   "display_name": "Python 3.10.7 64-bit",
   "language": "python",
   "name": "python3"
  },
  "language_info": {
   "codemirror_mode": {
    "name": "ipython",
    "version": 3
   },
   "file_extension": ".py",
   "mimetype": "text/x-python",
   "name": "python",
   "nbconvert_exporter": "python",
   "pygments_lexer": "ipython3",
   "version": "3.10.7"
  },
  "orig_nbformat": 4,
  "vscode": {
   "interpreter": {
    "hash": "55ed6b03a6ffb2f1dcfbeeba415c37a15b1dd56e5c45debffbf91f3acc093dbe"
   }
  }
 },
 "nbformat": 4,
 "nbformat_minor": 2
}
