{
 "cells": [
  {
   "cell_type": "markdown",
   "metadata": {},
   "source": [
    "## Question 1"
   ]
  },
  {
   "cell_type": "markdown",
   "metadata": {},
   "source": [
    "Write a python program to multiply  a M * N matrix by N * A matrix and create a real matrix product."
   ]
  },
  {
   "cell_type": "markdown",
   "metadata": {},
   "source": [
    "Importing All libraries"
   ]
  },
  {
   "cell_type": "code",
   "execution_count": 12,
   "metadata": {},
   "outputs": [],
   "source": [
    "# Importing pandas for data formatting \n",
    "# Importing numy for numerical calculations\n",
    "import pandas as pd \n",
    "import numpy as np\n"
   ]
  },
  {
   "cell_type": "code",
   "execution_count": null,
   "metadata": {},
   "outputs": [],
   "source": []
  },
  {
   "cell_type": "code",
   "execution_count": 127,
   "metadata": {},
   "outputs": [
    {
     "name": "stdout",
     "output_type": "stream",
     "text": [
      "Value of M 2\n",
      "Value of N 2\n",
      "Value of A 2\n",
      "First Array\n",
      " [[0.38361931 0.07049236]\n",
      " [0.02402621 0.48344265]] \n",
      "\n",
      "<class 'numpy.ndarray'>\n",
      "Second array\n",
      " [[0.45954109 0.18351487]\n",
      " [0.78519771 0.1432795 ]] \n",
      "\n",
      "Dot Product of two arrays\n"
     ]
    },
    {
     "data": {
      "text/plain": [
       "array([[0.23163928, 0.08049996],\n",
       "       [0.39063909, 0.07367659]])"
      ]
     },
     "execution_count": 127,
     "metadata": {},
     "output_type": "execute_result"
    }
   ],
   "source": [
    "M=int(input('Enter the value of M'))# Taking input from user\n",
    "N=int(input('Enter the value of N'))# Taking input from user\n",
    "A=int(input('Enter the value of A'))# Taking input from user\n",
    "\n",
    "# Printing values of M,N,A\n",
    "print('Value of M',M)\n",
    "print('Value of N',N)\n",
    "print('Value of A',A)\n",
    "\n",
    "Matrix_of_m_and_N=np.random.rand(M,N) # Creating a Numpy 2-dimenstional matrix of size M*N\n",
    "# printing Matrix\n",
    "print(\"First Array\\n\",Matrix_of_m_and_N,\"\\n\")\n",
    "# printing type of our matrix size M*N\n",
    "print(type(Matrix_of_m_and_N))\n",
    "# As we already know that matrix is nothing but a combination of n-dimentions arrays.\n",
    "Matrix_of_n_and_a=np.random.rand(N,A)# Creating a Numpy 2-dimenstional matrix of size N*A\n",
    " #printing Matrix\n",
    "print(\"Second array\\n\",Matrix_of_n_and_a,\"\\n\")\n",
    "\n",
    "print(\"Dot Product of two arrays\")\n",
    "np.dot(Matrix_of_m_and_N,Matrix_of_n_and_a)\n",
    "\n"
   ]
  },
  {
   "cell_type": "markdown",
   "metadata": {},
   "source": [
    "## Question 2"
   ]
  },
  {
   "cell_type": "markdown",
   "metadata": {},
   "source": [
    "Write a numPy program to check if each elements of array of your is composed of digits, lowercase letters and upper case letters only.\n"
   ]
  },
  {
   "cell_type": "code",
   "execution_count": 129,
   "metadata": {},
   "outputs": [
    {
     "data": {
      "text/plain": [
       "['machine', 'PowerBi', 'data', 'Neural', '16', 'learing', 'STUDY']"
      ]
     },
     "execution_count": 129,
     "metadata": {},
     "output_type": "execute_result"
    }
   ],
   "source": [
    "n=['machine','PowerBi','data','Neural','16','learing','STUDY']#Creating a list of values to check\n",
    "n"
   ]
  },
  {
   "cell_type": "code",
   "execution_count": 130,
   "metadata": {},
   "outputs": [
    {
     "name": "stdout",
     "output_type": "stream",
     "text": [
      "Digit only [False, False, False, False, True, False, False]\n"
     ]
    }
   ],
   "source": [
    "digitonlylist=[]\n",
    "for i in n:\n",
    "    digitonlylist=digitonlylist+[i.isdigit()]\n",
    "print(\"Digit only\",digitonlylist)    "
   ]
  },
  {
   "cell_type": "code",
   "execution_count": 131,
   "metadata": {},
   "outputs": [
    {
     "name": "stdout",
     "output_type": "stream",
     "text": [
      "upper only [False, False, False, False, False, False, True]\n"
     ]
    }
   ],
   "source": [
    "upperonlylist=[]\n",
    "for i in n:\n",
    "    upperonlylist=upperonlylist+[i.isupper()]\n",
    "print(\"upper only\",upperonlylist)    "
   ]
  },
  {
   "cell_type": "code",
   "execution_count": 17,
   "metadata": {},
   "outputs": [
    {
     "name": "stdout",
     "output_type": "stream",
     "text": [
      "lower only [True, False, True, False, False, True, False]\n"
     ]
    }
   ],
   "source": [
    "loweronlylist=[]\n",
    "for i in n:\n",
    "    loweronlylist=loweronlylist+[i.islower()]\n",
    "print(\"lower only\",loweronlylist)  "
   ]
  },
  {
   "cell_type": "markdown",
   "metadata": {},
   "source": [
    "## Question 3"
   ]
  },
  {
   "cell_type": "markdown",
   "metadata": {},
   "source": [
    "Write a program thatreads two space-separated positive integers 푋and 푌as input and perform the following tasks"
   ]
  },
  {
   "cell_type": "code",
   "execution_count": 63,
   "metadata": {},
   "outputs": [
    {
     "name": "stdout",
     "output_type": "stream",
     "text": [
      "2\n",
      "3\n"
     ]
    }
   ],
   "source": [
    "x,y=map(int,input(\"Enter a Space seprated integer value\").split())\n",
    "print(x)\n",
    "print(y)\n"
   ]
  },
  {
   "cell_type": "markdown",
   "metadata": {},
   "source": [
    "Create a list (lst1) starting at one (1) with 16 elements at a step of X"
   ]
  },
  {
   "cell_type": "code",
   "execution_count": 76,
   "metadata": {},
   "outputs": [
    {
     "name": "stdout",
     "output_type": "stream",
     "text": [
      "Printing List lst1 [1, 3, 5, 7, 9, 11, 13, 15, 17, 19, 21, 23, 25, 27, 29, 31]\n"
     ]
    }
   ],
   "source": [
    "lst1=np.arange(1,16*x,x)\n",
    "lst1=lst1.tolist()\n",
    "print(\"Printing List lst1\",lst1)"
   ]
  },
  {
   "cell_type": "markdown",
   "metadata": {},
   "source": [
    "Create a list (lst2) starting at one (1) with 16 elements at a step of Y"
   ]
  },
  {
   "cell_type": "code",
   "execution_count": 75,
   "metadata": {},
   "outputs": [
    {
     "name": "stdout",
     "output_type": "stream",
     "text": [
      "Printing List lst [1, 4, 7, 10, 13, 16, 19, 22, 25, 28, 31, 34, 37, 40, 43, 46]\n"
     ]
    }
   ],
   "source": [
    "lst2=np.arange(1,16*y,y)\n",
    "lst2=lst2.tolist()\n",
    "lst2\n",
    "print(\"Printing List lst2\",lst2)"
   ]
  },
  {
   "cell_type": "markdown",
   "metadata": {},
   "source": [
    "Create two NumPy arrays np1 and np2 using lst1 and lst2 respectively "
   ]
  },
  {
   "cell_type": "code",
   "execution_count": 83,
   "metadata": {},
   "outputs": [
    {
     "name": "stdout",
     "output_type": "stream",
     "text": [
      "Printing numpy array made using lst2 and lst2\n",
      " [ 1  3  5  7  9 11 13 15 17 19 21 23 25 27 29 31] \n",
      " [ 1  4  7 10 13 16 19 22 25 28 31 34 37 40 43 46]\n"
     ]
    }
   ],
   "source": [
    "np1=np.array(lst1)\n",
    "np2=np.array(lst2)\n",
    "print(\"Printing numpy array made using lst2 and lst2\\n\",np1,\"\\n\", np2)"
   ]
  },
  {
   "cell_type": "markdown",
   "metadata": {},
   "source": [
    "Reshape both the NumPy arrays to (4,4)"
   ]
  },
  {
   "cell_type": "code",
   "execution_count": 91,
   "metadata": {},
   "outputs": [
    {
     "name": "stdout",
     "output_type": "stream",
     "text": [
      "Printting both rehaped (4,4) array\n",
      " [[ 1  3  5  7]\n",
      " [ 9 11 13 15]\n",
      " [17 19 21 23]\n",
      " [25 27 29 31]] \n",
      "\n",
      " [[ 1  4  7 10]\n",
      " [13 16 19 22]\n",
      " [25 28 31 34]\n",
      " [37 40 43 46]]\n"
     ]
    }
   ],
   "source": [
    "np1=np1.reshape(4,4)\n",
    "np2=np2.reshape(4,4)\n",
    "print(\"Printting both rehaped (4,4) array\\n\",np1,\"\\n\\n\",np2)"
   ]
  },
  {
   "cell_type": "markdown",
   "metadata": {},
   "source": [
    "Create a new np array (np3) with values obtained by subtracting both the arrays (np1 -np2)"
   ]
  },
  {
   "cell_type": "code",
   "execution_count": 96,
   "metadata": {},
   "outputs": [
    {
     "data": {
      "text/plain": [
       "array([[  0,  -1,  -2,  -3],\n",
       "       [ -4,  -5,  -6,  -7],\n",
       "       [ -8,  -9, -10, -11],\n",
       "       [-12, -13, -14, -15]])"
      ]
     },
     "execution_count": 96,
     "metadata": {},
     "output_type": "execute_result"
    }
   ],
   "source": [
    "np1_np2_sub=np.subtract(np1,np2)\n",
    "np1_np2_sub"
   ]
  },
  {
   "cell_type": "code",
   "execution_count": 101,
   "metadata": {},
   "outputs": [
    {
     "name": "stdout",
     "output_type": "stream",
     "text": [
      "printing reshaped (1 dimentional) subtracted array\n",
      " [  0  -1  -2  -3  -4  -5  -6  -7  -8  -9 -10 -11 -12 -13 -14 -15]\n"
     ]
    }
   ],
   "source": [
    "print(\"printing reshaped (1 dimentional) subtracted array\\n\",np1_np2_sub.ravel())"
   ]
  },
  {
   "cell_type": "markdown",
   "metadata": {},
   "source": [
    "## Question 4"
   ]
  },
  {
   "cell_type": "markdown",
   "metadata": {},
   "source": [
    "Write a Python program thattakes two integer-NumPy arrays, P and Q of shape [3∗3]and perform the following task\n"
   ]
  },
  {
   "cell_type": "code",
   "execution_count": 133,
   "metadata": {},
   "outputs": [
    {
     "data": {
      "text/plain": [
       "(array([0, 1, 2, 3, 4, 5, 6, 7, 8]),\n",
       " array([10, 11, 12, 13, 14, 15, 16, 17, 18]))"
      ]
     },
     "execution_count": 133,
     "metadata": {},
     "output_type": "execute_result"
    }
   ],
   "source": [
    "p=np.array(range(0,9))# creating a 9 elemets array\n",
    "q=np.array(range(10,19))# creating a 9 elemets array\n",
    "p,q"
   ]
  },
  {
   "cell_type": "code",
   "execution_count": 120,
   "metadata": {},
   "outputs": [],
   "source": [
    "p=p.reshape(3,3)# reshapping the array into a 3,3 matrix\n",
    "q=q.reshape(3,3)"
   ]
  },
  {
   "cell_type": "code",
   "execution_count": 122,
   "metadata": {},
   "outputs": [
    {
     "name": "stdout",
     "output_type": "stream",
     "text": [
      "Printing subtracted array of size (3,3\n",
      " [[-10 -10 -10]\n",
      " [-10 -10 -10]\n",
      " [-10 -10 -10]]\n"
     ]
    }
   ],
   "source": [
    "nsub=np.subtract(p,q)# subtracting array\n",
    "print(\"Printing subtracted array of size (3,3\\n\",nsub)"
   ]
  }
 ],
 "metadata": {
  "kernelspec": {
   "display_name": "Python 3.10.2 64-bit (system)",
   "language": "python",
   "name": "python3"
  },
  "language_info": {
   "codemirror_mode": {
    "name": "ipython",
    "version": 3
   },
   "file_extension": ".py",
   "mimetype": "text/x-python",
   "name": "python",
   "nbconvert_exporter": "python",
   "pygments_lexer": "ipython3",
   "version": "3.10.2"
  },
  "orig_nbformat": 4,
  "vscode": {
   "interpreter": {
    "hash": "55ed6b03a6ffb2f1dcfbeeba415c37a15b1dd56e5c45debffbf91f3acc093dbe"
   }
  }
 },
 "nbformat": 4,
 "nbformat_minor": 2
}
