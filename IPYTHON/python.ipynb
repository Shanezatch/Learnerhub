{
 "cells": [
  {
   "cell_type": "code",
   "execution_count": null,
   "metadata": {},
   "outputs": [],
   "source": [
    "#python is developed by Guido van Rossum , python has a vast set library which is used in many fields such as machine learning, ai , open cv, desktop application\n",
    "# mobile application web application and many more. some companies that uses python for daily uses are google, microsoft, wipro, amazon,netflix\n",
    "# python is structural, high level and object oriented language. "
   ]
  },
  {
   "cell_type": "markdown",
   "metadata": {},
   "source": [
    "# MISS\n",
    "All Python objects and data structures are located in a private heap. The programmer does not have access to this private heap. The python interpreter takes care of this instead. Python also has an inbuilt garbage collector, which recycles all the unused memory and so that it can be made available to the heap space.\n",
    "\n",
    "In Python, the term monkey patch only refers to dynamic modifications of a class or module at run-time.\n"
   ]
  },
  {
   "cell_type": "markdown",
   "metadata": {},
   "source": [
    "#Above cell is a also a exapmle of single line comment as well as multi live comment. \n",
    "comments should be clear and precise and make it shorts as much s you can.\n",
    "python interpreter stop checking what is writen after the '#' symbol. "
   ]
  },
  {
   "cell_type": "markdown",
   "metadata": {},
   "source": [
    "## docstring are not comments,that are written in 3 cots, they are not omited by interpreter"
   ]
  },
  {
   "cell_type": "code",
   "execution_count": null,
   "metadata": {},
   "outputs": [],
   "source": [
    "a=10\n",
    "print(a)\n",
    "\"\"\" docstring are not ommited by interpreter as comments do\"\"\"\n",
    "\n"
   ]
  },
  {
   "cell_type": "code",
   "execution_count": null,
   "metadata": {},
   "outputs": [],
   "source": [
    "\"\"\" docstring are not ommited by interpreter as comments do\"\"\"\n",
    "print(a)"
   ]
  },
  {
   "cell_type": "markdown",
   "metadata": {},
   "source": [
    "# note\n",
    "help() function is a built-in function in Python Programming Language which is used to invoke the help\n",
    "system. It takes an object as an argument. It gives all the detailed information about that object like if it’s a\n",
    "module, then it will tell you about the sub-modules, functions, variables and constants in details"
   ]
  },
  {
   "cell_type": "code",
   "execution_count": null,
   "metadata": {},
   "outputs": [],
   "source": [
    "help()"
   ]
  },
  {
   "cell_type": "code",
   "execution_count": null,
   "metadata": {},
   "outputs": [],
   "source": [
    "a=10 # interger varriable\n",
    "string1=\"hiiii\"# string variable there is no char variable as other languages\n",
    "print(string1)\n",
    "#string1=\"hjevhcdj\"# error # strings are immutables\n",
    "aas=1.25# float variables\n",
    "com=4+8j# complex variable\n",
    "print(com)\n",
    "print(aas)\n",
    "len(string1)\n",
    "#len(a) this will throw an error we cannot find the lenght of a number"
   ]
  },
  {
   "cell_type": "markdown",
   "metadata": {},
   "source": [
    "#   String\n",
    "Triple quoted strings can span to multiple lines"
   ]
  },
  {
   "cell_type": "code",
   "execution_count": null,
   "metadata": {},
   "outputs": [],
   "source": [
    "string=\"\"\"welcome\n",
    "to python world\n",
    "credited by Shivam\"\"\"\n",
    "print(string)\n",
    "print(\"printing string using indexing \",string[14])# accessing the string using indexes\n",
    "print(\"string slicing\",string[0:17])\n",
    "string_double_quote=\"welcome to double qoutes string\"\n",
    "print(string_double_quote)\n",
    "single_quote_string='shivam'\n",
    "print(single_quote_string)\n",
    "print(len(single_quote_string))#printing the length of the single_quote_string\n"
   ]
  },
  {
   "cell_type": "markdown",
   "metadata": {},
   "source": [
    " # slicing\n",
    "A piece or subset of a string is known as slice. Slice operator is applied to a string with the use of square\n",
    "braces ([]). Operator [n:m] will give a substring which consists of letters between n and m indices,\n",
    "including letter at index n but excluding that at m, i.e. letter from nth index to (m-1)th index.\n",
    "Similarly, operator [n:m:s] will give a substring which consists of letters from nth index to (m-1)th\n",
    "index, where s is called the step value, i.e. after letter at n, that at n+s will be included, then n+2s, n+3s,\n",
    "etc…"
   ]
  },
  {
   "cell_type": "code",
   "execution_count": null,
   "metadata": {},
   "outputs": [],
   "source": [
    "print(single_quote_string[5:11])#using slicing to access the specific number of stings or character of a string\n",
    "print(string[0:42:3])#printing all the string between 0 to 42 with step 3\n",
    "\n",
    "#Now, if we do not give any value for the index before the colon, i.e., n, then the slice will start from the\n",
    "#first element of the string. \n",
    "print(string[:42])\n",
    "\n",
    "# Similarly, if we do not give any value for the index, i.e., m after the colon, the\n",
    "#slice will extend to the end of the string.\n",
    "print(string[0:])\n",
    "\n",
    "#Similarly, if we don’t give any value at both the sides of the colon, i.e., values for n and m are not given\n",
    "#then it will print the whole string\n",
    "print(string[:])\n",
    "\n",
    "#Now, if the second index, i.e., m, is smaller than the first index, i.e., n, then output will be an empty string\n",
    "print('empty string',string[10:1])\n",
    "\n",
    "#Now, if we give the value of step as -1 and no value for n and m, then it will print the string in reverse order\n",
    "print(string[::-1])#string in reverse order"
   ]
  },
  {
   "cell_type": "markdown",
   "metadata": {},
   "source": [
    "# NOTE ON STRING\n",
    "An empty string has length 0. Though it does not contain any character, it is still a\n",
    "string.\n",
    "Strings are immutable which means that we cannot change any element of a string. If we want to change an\n",
    "element of a string, we have to create a new string."
   ]
  },
  {
   "cell_type": "markdown",
   "metadata": {},
   "source": [
    "#ESCAPE CHARACTERS\n",
    "The backslash character (\\) is used to escape characters. It converts difficult-to-type characters into a\n",
    "string. Let us understand the concept of escaping characters with an example. Suppose, we want to print a\n",
    "string with double quotes or single quotes. Usually, when we use single or double quotes with the string,\n",
    "Python neglects them and prints only the string. What should we do if we want the quotation marks in the\n",
    "output? Then we will need to make use of the escaping character concept."
   ]
  },
  {
   "cell_type": "code",
   "execution_count": null,
   "metadata": {},
   "outputs": [],
   "source": [
    "print(\"I am 6'2\"\" tall.\")\n",
    "print(\"I am 6'2\\\" tall.\")"
   ]
  },
  {
   "cell_type": "markdown",
   "metadata": {},
   "source": [
    "#  some built-in string methods"
   ]
  },
  {
   "cell_type": "code",
   "execution_count": null,
   "metadata": {},
   "outputs": [],
   "source": [
    "stringcaptilize=\"making first letter of string capital \"\n",
    "print(stringcaptilize.capitalize())\n"
   ]
  },
  {
   "cell_type": "markdown",
   "metadata": {},
   "source": [
    "## Type conversion \n",
    "means converting the type of one variable to another variable\n",
    "this type of conversion are explicit conversion"
   ]
  },
  {
   "cell_type": "code",
   "execution_count": null,
   "metadata": {},
   "outputs": [],
   "source": [
    "a=5.6\n",
    "print(type(a))\n",
    "b=int(a)#converting the float to int value\n",
    "print(type(b))\n"
   ]
  },
  {
   "cell_type": "markdown",
   "metadata": {},
   "source": [
    "# TYPE COERCION\n",
    "There is also another kind of type conversion in the Python language, known as implicit conversion.\n",
    "Implicit conversion is also known as type coercion and is automatically done by the interpreter.\n",
    "Type coercion is a process through which the Python interpreter automatically converts a value of one\n",
    "type into a value of another type according to the requirement."
   ]
  },
  {
   "cell_type": "code",
   "execution_count": null,
   "metadata": {},
   "outputs": [],
   "source": [
    "#The expression minutes/60 does integer\n",
    "#arithmetic and gives result, even 59 minutes past hour.\n",
    "#One solution is that we convert the minutes to a floating-point number using type conversion and\n",
    "#do floating-point division:\n",
    "minute=59\n",
    "print(float(minute)/60)\n",
    "#Alternatively, we can take advantage of type coercion process in Python. For the mathematical\n",
    "#operators, if either operand is a float, the other is automatically converted to float:\n",
    "minute=59\n",
    "print(minute/60.0)\n"
   ]
  },
  {
   "cell_type": "markdown",
   "metadata": {},
   "source": [
    "# Operaters\n",
    "On the basis of functionality, operators in Python are categorised into following seven types:\n",
    " 1. Arithmetic operator\n",
    " 2. Comparison operator\n",
    " 3. Assignment operator\n",
    " 4. Logical operator\n",
    " 5. Bitwise operator\n",
    " 6. Membership operator\n",
    " 7. Identity operator\n",
    " all other operaters functunality are same like other programming languages but the membership and identity operaters are new in python\n"
   ]
  },
  {
   "cell_type": "markdown",
   "metadata": {},
   "source": [
    "#MEMBERSHIP OPERATER\n",
    "## in:- Return true, if item is in list or in sequence. Return false, if item is not in list or in sequence.\n",
    "## not in:- Return false, if item is in list or in sequence. Return true, if item is not in list"
   ]
  },
  {
   "cell_type": "code",
   "execution_count": null,
   "metadata": {},
   "outputs": [],
   "source": [
    "list2=[1,2,4,5,8]\n",
    "print(list2)\n",
    "x=2\n",
    "print(x in list2)# printing true as 2 is a element in list2\n",
    "x+8 not in list2# clearliy x+8 will give as 10 and 10 is not in our list output True"
   ]
  },
  {
   "cell_type": "markdown",
   "metadata": {},
   "source": [
    "# INDETITY OPERATOR\n",
    "## is:- Return true, if the operands are same. Return false, if the operands are not same.\n",
    "## not is:- Return false, if theoperands are same. Return true, if the operands are not same. x not is y, results true"
   ]
  },
  {
   "cell_type": "code",
   "execution_count": null,
   "metadata": {},
   "outputs": [],
   "source": [
    "x,y=1,1\n",
    "print(x is y)# ture because x and y are same\n",
    "print(x is not y)#false because x and y is not same"
   ]
  },
  {
   "cell_type": "markdown",
   "metadata": {},
   "source": [
    "# input from keyboard\n",
    "we cam=n take input from keyboard using method input()"
   ]
  },
  {
   "cell_type": "code",
   "execution_count": null,
   "metadata": {},
   "outputs": [],
   "source": [
    "\n",
    "xx=input(\"Enter the name\")## by default input method give us output in string formate we have to manually convert it into other format\n",
    "print(xx,type(xx))\n",
    "xx=int(input(\"type an integer value\"))# typecasing to integer value\n",
    "print(xx,type(xx))\n",
    " "
   ]
  },
  {
   "cell_type": "markdown",
   "metadata": {},
   "source": [
    "# LIST\n",
    "\n",
    "list is mutable collection of similar and dissimilar elements we can create a list using squore bracket\n",
    "List has a large memory, List is stored in two blocks of memory (One is fixed sized and the other is variable sized for storing data),\n",
    "Creating a list is slower because two memory blocks need to be accessed.Lists can also be re-sized quickly in a time-efficient manner. This is because Python initializes some extra elements in the list at initialization."
   ]
  },
  {
   "cell_type": "code",
   "execution_count": null,
   "metadata": {},
   "outputs": [],
   "source": [
    "list1=[10,51,26]\n",
    "print(list1,type(list1))# printing a list\n",
    "print(list1[2])# accessing list elements using list indexes\n",
    "print(list1[0:2])#list slicing\n",
    "list1.reverse()# reversing a list \n",
    "print(list1)\n",
    "print(\"blank_list\",list1[8:])\n",
    "list1.append(10)# adding elemets at the end of the list  \n",
    "print(list1)\n",
    "list1.remove(10)# this takes exaclty one argument\n",
    "print('removing only first find value', list1)\n",
    "list1.insert(0,150)#insering 150 at 0 index\n",
    "list1.sort()# sorting the list elements\n",
    "print(list1)\n",
    "print(\"Repetetion\",list1*2)#repetetion list \n",
    "\n"
   ]
  },
  {
   "cell_type": "markdown",
   "metadata": {},
   "source": [
    "### Tuple \n",
    "tuple is a ordered and immutable collection of  dissimilar elements.\n",
    "we can create a tuple using round brackets. Creating a tuple with one element is somewhat different. When we are creating a\n",
    "tuple with one element, we need to add a final comma after the item or element in order to\n",
    "complete the assignment of the tuple"
   ]
  },
  {
   "cell_type": "code",
   "execution_count": null,
   "metadata": {},
   "outputs": [],
   "source": [
    "tup=(1,2,5,9,\"user\",2,'lion')\n",
    "tup2=('yellow','rgb',146)\n",
    "print(tup)\n",
    "\n",
    "tup_single_element=('jiii',)#if we remove the comma then it will become string\n",
    "print(tup_single_element,type(tup_single_element))\n",
    "\n",
    "print(tup[5])# we can access elements using index\n",
    "\n",
    "print(tup[2:5])# using slicing to get elements between a specific range\n",
    "\n",
    "print(tup + tup2)#concating 2  tuples values\n",
    "\n",
    "tup3=tup +tup2;\n",
    "\n",
    "print(type(tup3),tup3)\n",
    "\n",
    "print(tup.count(2))#it will count the occurense of elements.\n",
    "\n",
    "print(tup*3)#using repetetion  on tuple\n",
    "\n",
    "print(tup.index('lion'))# it will print the index of the value if the value is in the tuple \n",
    "\n",
    "# creating a tuple\n",
    "Anil = (221,'Anil','Rahul','Delhi','1971','Jaipur Gwalior')\n",
    "# tuple assignment \n",
    "(id,fst_name,lst_name,city,year_of_birth,birth_place) = Anil\n",
    "print(Anil)"
   ]
  },
  {
   "cell_type": "markdown",
   "metadata": {},
   "source": [
    "### SET\n",
    "Set is a collection of similar elements, it will omit the duplicate values, no indexing possibles"
   ]
  },
  {
   "cell_type": "code",
   "execution_count": null,
   "metadata": {},
   "outputs": [],
   "source": [
    "set1={1,5,4,4,5,8,90}\n",
    "\n",
    "set2={4,5,8,9,2,1,6}\n",
    "print(set1)# no duplicate\n",
    "#set1[2]# error no indexing possible in set\n",
    "set1.add(80)# this will add the number in any index to our set\n",
    "print(set1)\n",
    "print(set1.issubset(set2))\n",
    "\n",
    "print(set1.intersection(set2))\n",
    "print(set1.isdisjoint(set2))"
   ]
  },
  {
   "cell_type": "markdown",
   "metadata": {},
   "source": [
    "# Dictinary\n",
    "A Python dictionary is an unordered collection of key-value pairs. When we have the large amount of\n",
    "data, the dictionary data type is used. Keys and values can be of any type in a dictionary. keys in the dictionary are imutables. Items in dictionary\n",
    "are enclosed in the curly-braces{} and separated by the comma (,). A colon (:) is used to separate key from\n",
    "value. A key inside the square bracket [] is used for accessing the dictionary items.\n",
    "\n"
   ]
  },
  {
   "cell_type": "markdown",
   "metadata": {},
   "source": []
  },
  {
   "cell_type": "code",
   "execution_count": null,
   "metadata": {},
   "outputs": [],
   "source": [
    "dict={1:'shivam',2:'sahil'}\n",
    "print(dict)\n",
    "print(\"keys of dict\",dict.keys())\n",
    "print(type(dict))\n",
    "print(\"values of dict\",dict.values())\n",
    "\n",
    "\n",
    "{1: 'shivam', 2: 'sahil'}\n",
    "keys of dict dict_keys([1, 2])\n",
    "<class 'dict'>\n",
    "values of dict dict_values(['shivam', 'sahil'])\n",
    "\n",
    "\n",
    "\n",
    "print()\n",
    "dict1={}#empty dictionary\n",
    "print(dict1)\n",
    "print(dict.values())#printning values of the dictionary\n",
    "print(dict[1])#ineding accessing\n",
    "#print(dict[shivam])#error name indexing not possible"
   ]
  },
  {
   "cell_type": "markdown",
   "metadata": {},
   "source": [
    "## The repetition operation is performed on the strings in order to repeat the string several times. It is done\n",
    "with * operator"
   ]
  },
  {
   "cell_type": "code",
   "execution_count": null,
   "metadata": {},
   "outputs": [],
   "source": [
    "s=\"shivam \";\n",
    "print(s*3)"
   ]
  },
  {
   "cell_type": "markdown",
   "metadata": {},
   "source": [
    "# The for Loop\n",
    "The Python for loop is an iterator-based for loop. It goes through the elements in any ordered sequence\n",
    "list, i.e., string, lists, tuples, the keys of dictionary and other iterables. In each iteration step, a loop variable\n",
    "is set to a value. The for loop in Python is a bit different from the for loop in any other programming\n",
    "language you have gone through \n",
    "syntax  for   variable_name in (range(), or in list,tuple set or on any string)\n"
   ]
  },
  {
   "cell_type": "code",
   "execution_count": null,
   "metadata": {},
   "outputs": [],
   "source": [
    "subjects = ['Maths', 'English', 'Physics', 'Chemistry', 'Computer']\n",
    "print(list1)\n",
    "for x in list1:\n",
    "    print(x)\n",
    "for x in subjects:\n",
    "    print(x)\n",
    "    for letter in 'Python' :\n",
    "        print(letter)# end=\"\" remove the new line that our print function is going to print\n",
    "       "
   ]
  },
  {
   "cell_type": "markdown",
   "metadata": {},
   "source": [
    "# note \n",
    "In the below example, we have printed the value from 0 to 6 by using the for loop and an else part\n",
    "having a print statement is also been used. In this case, the for loop is ended normally then the\n",
    "else part also executed but when the loop stops because of break statement then the else part\n",
    "doesn’t execute"
   ]
  },
  {
   "cell_type": "code",
   "execution_count": null,
   "metadata": {},
   "outputs": [],
   "source": [
    "for x in range(7):\n",
    "    print(\" \",x,\" \",end=\"\")\n",
    "else:\n",
    "    print('Else Part')\n",
    "print(\"exapmle no 2  with break or continue statements\")    \n",
    "for x in range(7):\n",
    "    print(x)\n",
    "    if x==4:\n",
    "        break\n",
    "else:\n",
    "    print('Else Part')  # not worked as break statement will executed  "
   ]
  },
  {
   "cell_type": "markdown",
   "metadata": {},
   "source": [
    "# while \n",
    "The while statement is used when you have a piece of code and you want to repeat it ‘n’ number of times\n",
    "or forever. With while loop, we have to give a conditional statement that tells the interpreter when the loop\n",
    "will halt.\n",
    "### same as else in for loop we can also use else in while loop:"
   ]
  },
  {
   "cell_type": "code",
   "execution_count": null,
   "metadata": {},
   "outputs": [],
   "source": [
    "count=0\n",
    "while count < 6:\n",
    "      print(count)\n",
    "      count += 1\n",
    "else:\n",
    "    print(\"end of else\")      "
   ]
  },
  {
   "cell_type": "markdown",
   "metadata": {},
   "source": [
    " #IF,  IF-ELSE,  IF-ELIF-ELSE\n",
    " if and else statements  are also same in python as well.\n",
    " a little syntax name is diffrent in python that is elif :"
   ]
  },
  {
   "cell_type": "code",
   "execution_count": null,
   "metadata": {},
   "outputs": [],
   "source": [
    "a,b,c,d=1,2,3,4\n",
    "if a==4:\n",
    "   print(\"if part\",d)\n",
    "elif a==1:\n",
    "     print(\"first elif\",a)\n",
    "elif c==5:\n",
    "     print(\"second elif\",c)\n",
    "else: \n",
    "     print(\"else part\",a+b+c+d)\n",
    "\n"
   ]
  },
  {
   "cell_type": "markdown",
   "metadata": {},
   "source": [
    "# PYTHON MATH MODULE\n",
    "Python provides us a Math module that contains most of the familiar and important mathematical\n",
    "functions.\n",
    "##  A module is a file that contains some predefined Python codes. A module can define functions,\n",
    "classes and variables. It is a collection of related functions grouped together.\n",
    "Before using a module in Python, we have to import it."
   ]
  },
  {
   "cell_type": "code",
   "execution_count": null,
   "metadata": {},
   "outputs": [],
   "source": [
    "import math as m# importing math, and doning alising so that we dont have to write math everytime we uses its functions\n",
    "x=10\n",
    "y=5\n",
    "yy=100.55\n",
    "print(m.sqrt(10))# squre root of x\n",
    "print(m.pow(x,y))#  power function\n",
    "print(m.factorial(y))# factorial of y\n",
    "print(m.sin(y))# sin value of y degree\n",
    "print(m.tan(x))# tan value of x degree\n",
    "print(m.floor(yy))# floor value   of  yy\n",
    "print(m.ceil(yy))## ceil value of yy\n",
    "print(m.degrees(y))# degree   of y\n",
    "print(m.exp(y))# exponantion value  of y"
   ]
  },
  {
   "cell_type": "markdown",
   "metadata": {},
   "source": [
    "# PYTHON dir() function\n",
    "\n",
    "dir() takes an object as an argument. It returns a list of strings which are names of members of that object.\n",
    "If object is a module, it will list sub-modules, functions provided by, variables, constants, etc. It’s a good\n",
    "tool to learn and understand about a module or an object"
   ]
  },
  {
   "cell_type": "code",
   "execution_count": null,
   "metadata": {},
   "outputs": [],
   "source": [
    "dir(m)# here m is an alising for math which we used in above code\n"
   ]
  },
  {
   "cell_type": "markdown",
   "metadata": {},
   "source": [
    "# ASCII VALUE\n",
    "for getting the ASCII value of a given argument python has a in_built function called:- ord(argyment_name)"
   ]
  },
  {
   "cell_type": "code",
   "execution_count": null,
   "metadata": {},
   "outputs": [],
   "source": [
    "A='f'# ord takes only a character as a argument\n",
    "ord(A)#ASCII value of a  is "
   ]
  },
  {
   "cell_type": "markdown",
   "metadata": {},
   "source": [
    "#    USER DEFINED FUNCTIONS\n",
    "Python also allows users to define their own functions. To use their own functions in Python, users have to define\n",
    "the function first; this is known as Function Definition. In a function definition, users have to define a\n",
    "name for the new function and also the list of the statements that will execute when the function will be\n",
    "called.The block of the function starts with a keyword def after which the function name is written followed\n",
    "by parentheses. We can also give some input parameters or arguments to a function by placing them within\n",
    "these parentheses. The parameters can also be defined within these parentheses. The block of statements\n",
    "always starts with a colon (:).A function may or may not return a value. If a function returns\n",
    "a value, it is passed back by the return statement as argument to the caller. If it does not return a value, we\n",
    "simply write return with no arguments.\n"
   ]
  },
  {
   "cell_type": "code",
   "execution_count": null,
   "metadata": {},
   "outputs": [],
   "source": [
    "def fun(aaa):# declaring a function named fun and giving a argument named as aaa\n",
    "    print(aaa)\n",
    "    return(aaa+1)#retruning the value \n",
    "fun(10)  # function call  \n",
    "w=fun(10)\n",
    "print(w) \n",
    "\n",
    "def  fun1(aaa):\n",
    "     return(aaa,aaa**aaa)#function returning more than one value\n",
    "      \n",
    "w,e=fun1(int(input()))#getting more than one value from function fun1()\n",
    "print(\"value \", w,\"   \",\"power \",e)      \n",
    "\n",
    "# calling function from inside of another function\n",
    "\n",
    "def  fun2(aaa):\n",
    "     print(aaa)\n",
    "     print(\"called  fun3() inside the fun2()\",fun3())#calling function 3 inside the fun2()\n",
    "def fun3():\n",
    "    print(\"function 3 with no argument passed to it\")\n",
    "    return(True)# returning the Boolen TRUE\n",
    "fun2(22)\n"
   ]
  },
  {
   "cell_type": "markdown",
   "metadata": {},
   "source": [
    "There can be four types of formal arguments using which a function can be called which are as follows:\n",
    "1. Required arguments\n",
    "2. Default arguments\n",
    "3. Variable-length arguments"
   ]
  },
  {
   "cell_type": "markdown",
   "metadata": {},
   "source": [
    "# REQUIRED  ARGUMENTS\n",
    "At the time of  calling, the arguments should be passed to a function in correct positional order; furthermore,\n",
    "the number of arguments should match the defined number of parameters."
   ]
  },
  {
   "cell_type": "code",
   "execution_count": null,
   "metadata": {},
   "outputs": [],
   "source": [
    "def required_argument_exapmle(str):#one paramenter defined \n",
    "    print(str)\n",
    "    return;# not retruning any value to the function\n",
    "    \n",
    "required_argument_exapmle(\"number_of_argumnets should be same as declared  at the time of function defination\")# passing one argument in the form of string    "
   ]
  },
  {
   "cell_type": "markdown",
   "metadata": {},
   "source": [
    " # DEFAULT ARGUMENTS:\n",
    "  In default arguments, we can assign a value to a parameter at the time of function\n",
    "definition. This value is considered the default value to that parameter. If we do not provide a value to the\n",
    "parameter at the time of calling, it will not produce an error. Instead it will pick the default value and use it"
   ]
  },
  {
   "cell_type": "code",
   "execution_count": null,
   "metadata": {},
   "outputs": [],
   "source": [
    "def default_argument_exapmle(name, age=35):# defining the default value for age\n",
    "    print('Name:',name)\n",
    "    print('Age: ', age)\n",
    "    return;\n",
    "\n",
    "default_argument_exapmle(age=20, name='john')\n",
    "default_argument_exapmle(name='john')# age will taken as default value"
   ]
  },
  {
   "cell_type": "markdown",
   "metadata": {},
   "source": [
    "#  VARIABLE-LENGTH- ARGUMENTS:\n",
    " There are many cases where we are required to process a function with more\n",
    "number of arguments than we specified in the function definition. These types of arguments are known\n",
    "as variable-length arguments. The names for these arguments are not specified in the function definition.\n",
    "Instead we use an asterisk (*) before the name of the variable which holds the value for all non-keyword\n",
    "variable arguments. it will store all the variable values in the form of :: tuple\n",
    "When the asterisk (*) is used before the arguments at the time of function definition, it\n",
    "collects all the calling function arguments in a tuple and when it is used at the time of\n",
    "calling, it scatters the values of the tuple."
   ]
  },
  {
   "cell_type": "code",
   "execution_count": null,
   "metadata": {},
   "outputs": [],
   "source": [
    "def variable_length_arguments_exapmle(str,*not_Defined_vaiables):\n",
    "    print(str)\n",
    "    i=0\n",
    "    print(type(not_Defined_vaiables))\n",
    "    for i in not_Defined_vaiables:\n",
    "        print(i)\n",
    "    return;\n",
    "\n",
    "variable_length_arguments_exapmle(\"shivam\",\"lakshya\",18,11913100)    "
   ]
  },
  {
   "cell_type": "markdown",
   "metadata": {},
   "source": [
    "# THE ANONYMOUS FUNCTIONS\n",
    "The anonymous functions are the functions created using a lambda keyword. They are not defined by using\n",
    "def keyword. For this reason, they are called anonymous functions.\n",
    "We can pass any number of arguments to a lambda form functions, but still they return only one value in\n",
    "the form of expression. An anonymous function cannot directly call print command as the lambda needs\n",
    "an expression. It cannot access the parameters that are not defined in its own namespace. An anonymous\n",
    "function is a single line statement function A lambda is much more readable than a full function since it can be written in-line. Hence, it is a good practice to use lambdas when the function expression is small.\n",
    "\n",
    "The beauty of lambda functions lies in the fact that they return function objects. This makes them helpful when used with functions like map or filter which require function objects as arguments.\n",
    "\n",
    "Lambdas aren’t useful when the expression exceeds a single line"
   ]
  },
  {
   "cell_type": "code",
   "execution_count": null,
   "metadata": {},
   "outputs": [],
   "source": [
    "mult=lambda val,val2:val*val2;# lambda function returning multiplication of two numbersok    \n",
    "print(mult(10,8))\n",
    "#mult1=lambda val,val2:val*val2,val2;# this will throw an error as we cannot return more than one value::Error type variable not defined\n",
    "#print(mult1(10,5))\n",
    "#mult2=lambda val,val2:print(val1);# throw an error as we cannot use print in lambda:Error type variable not defined\n",
    "#print(mult2(10,10))"
   ]
  },
  {
   "cell_type": "code",
   "execution_count": null,
   "metadata": {},
   "outputs": [],
   "source": [
    "def fact_rec(x):\n",
    "#Recursive function to find the factorial of an integer’\n",
    "    if x == 1 or x==0:\n",
    "       return(1);\n",
    "       \n",
    "    else:\n",
    "        return(x * fact_rec(x-1))\n",
    "\n",
    "fact_rec(0)\n",
    "\n",
    "\n",
    "\n",
    "\n",
    "\n",
    "\n",
    "\n",
    "\n"
   ]
  },
  {
   "cell_type": "markdown",
   "metadata": {},
   "source": [
    "## Containers are objects that hold objects. They provide a way to access the contained objects and iterate over them. Examples of built in containers are Tuple, list, and dictionary collections\n",
    "is a specialised collection of data structure\n",
    "Some collections data types are namedtyple(),chainmap,counter,deque,orderddict. userdict,defaultdict,userlist,userstring.\n"
   ]
  },
  {
   "cell_type": "markdown",
   "metadata": {},
   "source": [
    "Python supports a type of container like dictionaries called “namedtuple()” present in module, “collections“. Like dictionaries they contain keys that are hashed to a particular value. But on contrary, it supports both access from key value and iteration, the functionality that dictionaries lack."
   ]
  },
  {
   "cell_type": "code",
   "execution_count": null,
   "metadata": {},
   "outputs": [],
   "source": [
    "from collections import namedtuple\n",
    "a= namedtuple('courses',['name','age'])# namedtuple\n",
    "s=a('data science',18)\n",
    "print(s)\n",
    "\n",
    "print(s[1])#printing values using indexes\n",
    "\n",
    "print(s.name)#printing data using variables names\n",
    "\n",
    "print(getattr(s,'age'))# another way of getting values using variables names using getattr:getattribute\n",
    "\n",
    "# Declaring namedtuple()\n",
    "Student = namedtuple('Student',['name','age','DOB'])\n",
    "  \n",
    "# Adding values\n",
    "S = Student('Nandini','19','2541997')\n",
    "  \n",
    "#  making a list\n",
    "li = ['Manjeet', '19', '411997' ]\n",
    "  \n",
    "# initializing dict\n",
    "di = { 'name' : \"Nikhil\", 'age' : 19 , 'DOB' : '1391997' }\n",
    "  \n",
    "# using _make() to return namedtuple()\n",
    "print (\"The namedtuple instance using list is  : \")\n",
    "print (Student._make(li))\n",
    "  \n",
    "# using _asdict() to return an OrderedDict()\n",
    "print (\"The OrderedDict instance using namedtuple is  : \")\n",
    "print (S._asdict())\n",
    "  \n",
    "# using ** operator to return namedtuple from dictionary\n",
    "print (\"The namedtuple instance from dict is  : \")\n",
    "print (Student(**di))\n",
    "\n",
    "# using _fields to display all the keynames of namedtuple()\n",
    "print (\"All the fields of students are : \")\n",
    "print (S._fields)\n",
    "  \n",
    "# using _replace() to change the attribute values of namedtuple\n",
    "print (\"The modified namedtuple is : \")\n",
    "print(S._replace(name = 'Manjeet'))\n",
    "S._replace(name='ram')"
   ]
  },
  {
   "cell_type": "markdown",
   "metadata": {},
   "source": [
    "## deque\n",
    "Deque (Doubly Ended Queue) in Python is implemented using the module “collections“. Deque is preferred over list in the cases where we need quicker append and pop operations from both the ends of container, as deque provides an O(1) time complexity for append and pop operations as compared to list which provides O(n) time complexity.\n",
    "\n",
    "\n",
    "By default append and pop  method add or remove elements to the right side of the list"
   ]
  },
  {
   "cell_type": "code",
   "execution_count": null,
   "metadata": {},
   "outputs": [],
   "source": [
    "import collections as cc\n",
    "a=['s','d','d','g','y']\n",
    "d=cc.deque(a)\n",
    "\n",
    "d.appendleft('python')\n",
    "print(d)\n",
    "\n",
    "d.append(10)\n",
    "print(d)\n",
    "\n",
    "d.pop()\n",
    "print(d)\n",
    "\n",
    "d.popleft()\n",
    "print(d)\n",
    "\n",
    "d.insert(4,500)# insering 500 at the index 4.\n",
    "print(d)\n",
    "\n",
    "d.index(500)#checking the index of the value 500\n",
    "\n",
    "d.count(5)# counting the occureence of the given argument \n",
    "\n",
    "d.extend([4,5,9])#adding 4,5,9 to the list \n",
    "print(d)\n",
    "\n",
    "d.extendleft([7,8,2])#adding mutiple values to the left of the list\n",
    "print(d)\n",
    "\n",
    "d.rotate(-1)#rotating the values of the list by -1\n",
    "print(d)\n",
    "\n",
    "d.reverse()\n",
    "print(d)"
   ]
  },
  {
   "cell_type": "markdown",
   "metadata": {},
   "source": [
    "chainmap\n",
    "chainmap is used to encapsulated diffrent dict into one unit"
   ]
  },
  {
   "cell_type": "code",
   "execution_count": null,
   "metadata": {},
   "outputs": [],
   "source": [
    "from collections import ChainMap\n",
    "di={1:'a',2:'s',3:'sa'}\n",
    "print(di.keys())\n",
    "dj={11:'aa',21:'as',31:'sa'}\n",
    "dn={10:'aw',12:'sa',13:'wa'}\n",
    "db={14:'e'}\n",
    "c=ChainMap(di,dj,dn)\n",
    "print(c.maps)\n",
    "\n",
    "print(list(c.values()))#you must use list to display the values of chainmap\n",
    "\n",
    "print(list(c.keys()))\n",
    "cs=c.new_child(db)\n",
    "print(cs)# adding new dict at the start of chainmap\n",
    "\n",
    "print(cs.maps)"
   ]
  },
  {
   "cell_type": "markdown",
   "metadata": {},
   "source": [
    "# # DefaultDICT\n",
    "Defaultdict is a sub-class of the dict class that returns a dictionary-like object. when the key is not present in dictinary and we try to acces it then we will get an error known as key-error Sometimes, when the KeyError is raised, it might become a problem. To overcome this Python introduces another dictionary like container known as Defaultdict which is present inside the collections module. The functionality of both dictionaries and defualtdict are almost same except for the fact that defualtdict never raises a KeyError. It provides a default value for the key that does not exists.\n",
    "\n",
    "Syntax: defaultdict(default_factory)\n",
    "\n",
    "Parameters:\n",
    "\n",
    "default_factory: A function returning the default value for the dictionary defined. If this argument is absent then the dictionary raises a KeyError."
   ]
  },
  {
   "cell_type": "code",
   "execution_count": null,
   "metadata": {},
   "outputs": [],
   "source": [
    "from collections import defaultdict\n",
    "  \n",
    "      \n",
    "# Defining the dict and passing \n",
    "# lambda as default_factory argument\n",
    "d = defaultdict(lambda: \"Not Present\")\n",
    "d[\"a\"] = 1\n",
    "d[\"b\"] = 2\n",
    "  \n",
    "print(d[\"a\"])\n",
    "print(d[\"b\"])\n",
    "print(d[\"c\"])"
   ]
  },
  {
   "cell_type": "markdown",
   "metadata": {},
   "source": [
    "## COUNTER\n",
    "A Counter is a subclass of dict. Therefore it is an unordered collection where elements and their respective count are stored as a dictionary. This is equivalent to a bag or multiset of other languages.\n",
    "\n",
    "The constructor of counter can be called in any one of the following ways :\n",
    "\n",
    "#### With sequence of items\n",
    "#### With dictionary containing keys and counts\n",
    "#### With keyword arguments mapping string names to counts\n",
    "#### Example of each type of initialization :\n",
    "\n",
    "#### we can also crate the empty counter and update it later\n",
    "#### counter’s data will be increased not replaced when updation.\n",
    "Counts can be zero and negative also\n"
   ]
  },
  {
   "cell_type": "code",
   "execution_count": null,
   "metadata": {},
   "outputs": [],
   "source": [
    "from collections import Counter\n",
    "\n",
    "lis=[1,4,1,5,1,7,8,9,6,2,2,2,2,2,2,2,2,4,5]\n",
    "a=Counter(lis)# also it will print the number in highted counter to lowest\n",
    "print(a)# this will print the number of times a value is occuring like 1:3 means 1 is occuring 3 times in the list \n",
    "print(a.values())\n",
    "# with dictionary\n",
    "print(Counter({'A':3, 'B':5, 'C':2}))\n",
    "  \n",
    "# with keyword arguments\n",
    "print(Counter(A=3, B=5, C=2))"
   ]
  },
  {
   "cell_type": "code",
   "execution_count": null,
   "metadata": {},
   "outputs": [],
   "source": [
    "# empty counter creation and updation it later\n",
    "\n",
    "count=Counter()# empty counter\n",
    "count.update([1,2,4,5,8,9,5,4,2,1,5,6,5])\n",
    "print(count)\n",
    "\n",
    "count.update(A=5,B=6,G=9)\n",
    "\n",
    "print(count)"
   ]
  },
  {
   "cell_type": "markdown",
   "metadata": {},
   "source": [
    "## Array\n",
    "An array is a collection of items stored at contiguous memory locations. The idea is to store multiple items of the same type together. Array can be handled in Python by a module named array. They can be useful when we have to manipulate only a specific data type values. A user can treat lists as arrays. However, user cannot constraint the type of elements stored in a list. If you create arrays using the array module, all elements of the array must be of the same type. \n"
   ]
  },
  {
   "cell_type": "code",
   "execution_count": null,
   "metadata": {},
   "outputs": [],
   "source": [
    "import array as arr\n",
    " \n",
    "# creating an array with integer type\n",
    "a = arr.array('i', [1, 2, 3])\n",
    " \n",
    "# printing original array\n",
    "print (\"The new created array is : \", end =\" \")\n",
    "for i in range (0, 3):\n",
    "    print (a[i], end =\" \")\n",
    "print()\n",
    " \n",
    "# creating an array with float type\n",
    "b = arr.array('f', [2.6, 3.2, 3])\n",
    " \n",
    "# printing original array\n",
    "print (\"The new created array is : \", end =\" \")\n",
    "for i in range (0, 3):\n",
    "    print (b[i], end =\" \")\n",
    "print()\n",
    "# creating an array with double type\n",
    "b = arr.array('d', [2.2, 3.5, 3])\n",
    " \n",
    "# printing original array\n",
    "print (\"The new created array is : \", end =\" \")\n",
    "for i in range (0, 3):\n",
    "    print (b[i], end =\" \")\n",
    "\n",
    "\n",
    "\n",
    "B = arr.array('d', [2.2, 3.5, 3])\n",
    "B.insert(1,99) \n",
    "print (\"The new created array after insertion  : \", end =\" \")\n",
    "for i in range (0, 4):\n",
    "    print (B[i], end =\" \")    \n",
    "print()\n",
    "B.append(100)\n",
    "print (\"The new created array after append  : \", end =\" \")\n",
    "for i in range (0, 5):\n",
    "    print (B[i], end =\" \")\n",
    "\n",
    " \n",
    "print()\n",
    "B.pop(1)# if we not specified the index then the last element will be removed and will return the poped value\n",
    "print(B.pop())\n",
    "print (\"The new created array after pop  : \", end =\" \")\n",
    "for i in range (0, 3):\n",
    "    print (B[i], end =\" \")            "
   ]
  },
  {
   "cell_type": "markdown",
   "metadata": {},
   "source": [
    "## Slicing of a Array\n",
    "In Python array, there are multiple ways to print the whole array with all the elements, but to print a specific range of elements from the array, we use Slice operation. Slice operation is performed on array with the use of colon(:). To print elements from beginning to a range use [:Index], to print elements from end use [:-Index], to print elements from specific Index till the end use [Index:], to print elements within a range, use [Start Index:End Index] and to print whole List with the use of slicing operation, use [:]. Further, to print whole array in reverse order, use [::-1]. "
   ]
  },
  {
   "cell_type": "code",
   "execution_count": null,
   "metadata": {},
   "outputs": [],
   "source": [
    "aaaa = arr.array('i', [1, 2, 3,4,5,2,1,6,8,9,5,4,5,1])\n",
    " \n",
    "# printing original array\n",
    "print (\"The new created array is : \", end =\" \")\n",
    "for i in range (0, 3):\n",
    "    print (aaaa[i], end =\" \")\n",
    "print()\n",
    "\n",
    "print(\"this will print the  index of the first occurence of the value in the array\")\n",
    "print(aaaa.index(2))# in output we will get 1 as 2 is stored in index 1\n",
    "print(aaaa.count(2))#counting the number of values in array\n",
    "print(aaaa.remove(8))# this will remove the element but not return it\n",
    "print(aaaa)\n",
    "print(aaaa.tolist())# converting the array to list\n",
    "#print(aaaa.tounicode())# only be called in unicode array.\n",
    "print(aaaa.typecode)# will  print the type of array \n",
    "print(aaaa.itemsize)# will print the byte required to make integer array\n",
    "print(aaaa)\n",
    "aaaa.reverse()\n",
    "print(aaaa)\n",
    "print(aaaa.__len__())\n",
    "print(aaaa.buffer_info())\n",
    "print(aaaa)\n"
   ]
  },
  {
   "cell_type": "markdown",
   "metadata": {},
   "source": [
    " # 1 Program to add the array elements:"
   ]
  },
  {
   "cell_type": "code",
   "execution_count": null,
   "metadata": {},
   "outputs": [],
   "source": [
    "import array as arr;\n",
    "array_for_addition=arr.array('i',[1,1,1,1,1,1,1,1,1]);\n",
    "sum_of_array=0;\n",
    "for i in range(0,len(array_for_addition)):\n",
    "    sum_of_array+=array_for_addition[i];\n",
    "\n",
    "print(sum_of_array)\n",
    "print(end=\"\")"
   ]
  },
  {
   "cell_type": "markdown",
   "metadata": {},
   "source": [
    "# 2 Program to find the maximum or minimum value of an array"
   ]
  },
  {
   "cell_type": "code",
   "execution_count": null,
   "metadata": {},
   "outputs": [],
   "source": [
    "array_for_max_min=arr.array('i',[100,2,1,5,15,85,9])\n",
    "\n",
    "print(\"maximum value of array\",max(array_for_max_min))\n",
    "\n",
    "print(\"minimum value of array\",min(array_for_max_min))"
   ]
  },
  {
   "cell_type": "markdown",
   "metadata": {},
   "source": [
    "# 3 Program for sorting an array"
   ]
  },
  {
   "cell_type": "code",
   "execution_count": null,
   "metadata": {},
   "outputs": [],
   "source": [
    "array_for_sorting=arr.array('i',[4,5,8,10,6,15,5])\n",
    "\n",
    "\n",
    "\n",
    "print(\"sorted array\",sorted(array_for_sorting))"
   ]
  },
  {
   "cell_type": "markdown",
   "metadata": {},
   "source": [
    "# 4 Program for reversing a array"
   ]
  },
  {
   "cell_type": "code",
   "execution_count": null,
   "metadata": {},
   "outputs": [],
   "source": [
    "array_for_reversing=arr.array('i',[1,4,5,8,9,4,8,62,530])\n",
    "\n",
    "#reversing using slice method\n",
    "print(\"Reversed array is \",array_for_reversing[: :-1])"
   ]
  },
  {
   "cell_type": "markdown",
   "metadata": {},
   "source": [
    "# 5 Program to finding the n-th largest and n-th lowest elements"
   ]
  },
  {
   "cell_type": "code",
   "execution_count": null,
   "metadata": {},
   "outputs": [],
   "source": [
    "array_for_largest_smaller=arr.array('i',[1,7,2,5,6,58,7,52,6])\n",
    "value_of_n_th=int(input(\"enter the n_th value \"))\n",
    "print(len(array_for_largest_smaller))\n",
    "if value_of_n_th <len(array_for_largest_smaller):\n",
    "  \n",
    "   array_for_largest_smaller= sorted(array_for_largest_smaller)\n",
    "   print(array_for_largest_smaller)\n",
    "   print(\"n_th largest number is\",array_for_largest_smaller[(len(array_for_largest_smaller)-value_of_n_th)])\n",
    "   print(\"n_th smallest number is\",array_for_largest_smaller[value_of_n_th])"
   ]
  },
  {
   "cell_type": "markdown",
   "metadata": {},
   "source": [
    "# 6 Program to find the duplicate elements in the array\n"
   ]
  },
  {
   "cell_type": "code",
   "execution_count": null,
   "metadata": {},
   "outputs": [],
   "source": [
    "array_for_duplicate_elements=arr.array(\"i\",[1,4,1,5,4,9,85,9,6,8,7])\n",
    "\n",
    "for i in range(0,len(array_for_duplicate_elements)):\n",
    "    if array_for_duplicate_elements.count(array_for_duplicate_elements[i])>1:\n",
    "       array_for_duplicate_elements.pop(i)\n",
    "       \n",
    "       #print(array_for_duplicate_elements[i])       \n"
   ]
  },
  {
   "cell_type": "markdown",
   "metadata": {},
   "source": [
    "# CLASSES AND OBJECTS"
   ]
  },
  {
   "cell_type": "code",
   "execution_count": null,
   "metadata": {},
   "outputs": [],
   "source": [
    "class student:\n",
    "      def __init__(self,name_of_student,age_of_student) -> None:# this init is a construtor in python\n",
    "          self.name=name_of_student# here self (firts read note below) is a boject of stu and we are assigning\n",
    "                                    # values to our object \n",
    "          self.age=age_of_student\n",
    "          #above two things are attributes\n",
    "      def work(self):#a simple short method\n",
    "          print(\"this is a method or behaviour of student class\")\n",
    "          print(\"we can assess the values or attributes of stu class\")\n",
    "          print(\"name is \",self.name)# printing the value stored in name variable\n",
    "          print(\"age is \",self.age)#printing the value stored in age variable\n",
    "\n",
    "          print(self)\n",
    "          print(type(self))\n",
    "          #print(\"printing id \",id(self))\n",
    "         \n",
    "  #objects  of class stu  \n",
    "stu_class_object1=student(\"Shivam\",19)# stu_class_object1=stu(stu_class_object1,\"shivam\",19)\n",
    "stu_class_object1.work()\n",
    "#print(id(stu_class_object1))\n",
    "stu_class_object2=student(\"Sahil\",21)#second object of class\n",
    "stu_class_object2.work()\n",
    "#print(id(stu_class_object2))  \n",
    "\n",
    "\n",
    "print(type(student))"
   ]
  },
  {
   "cell_type": "markdown",
   "metadata": {},
   "source": [
    "# NOTE\n",
    "in the above code we are passing two value(as a writer view) at the time of object creation to our stu class\n",
    "but accepting three arguments as a constructor, confuse😒::::but  by defualt we are also passsing the object name to the stu class as well, for our self argument.\n",
    "or we can say that self is refering to the current object passed to it or refering to the object"
   ]
  },
  {
   "cell_type": "markdown",
   "metadata": {},
   "source": [
    "Objects are stored in heap memory.\n",
    "every objects have their own memory address(in heap)\n",
    "the constructor is responsible for handling memory as what size of the class would be depends  on the number of variables declared in the init method as well as on number of methods"
   ]
  },
  {
   "cell_type": "markdown",
   "metadata": {},
   "source": [
    "Ineritance"
   ]
  },
  {
   "cell_type": "code",
   "execution_count": null,
   "metadata": {},
   "outputs": [],
   "source": [
    "class vehicle:\n",
    "    def __init__(self) -> None:\n",
    "        print(\"Vehicle class,mode of transportation\")\n",
    "    def exapmle_of_inheritance(self):\n",
    "        print(\"child class can use me: vehicle(parent class)\")    \n",
    "class car(vehicle):\n",
    "    def driving(self):\n",
    "        print(\"car used to drive\")\n",
    "class motorcycle(vehicle):\n",
    "    def riding(self):\n",
    "        print(\"Mean of riding\")\n",
    "car1=car()\n",
    "car1.driving()  \n",
    "car1.exapmle_of_inheritance()#inhert the methods of parents class  \n",
    "\n",
    "motorcycle1=motorcycle()\n",
    "motorcycle1.riding()\n",
    "motorcycle1.exapmle_of_inheritance()          "
   ]
  },
  {
   "cell_type": "code",
   "execution_count": null,
   "metadata": {},
   "outputs": [],
   "source": [
    "class Date:\n",
    " __slots__ = ['year', 'month', 'day']\n",
    " def __init__(self, year, month, day):\n",
    " self.year = year\n",
    " self.month = month\n",
    " self.day = day\n",
    " "
   ]
  },
  {
   "cell_type": "markdown",
   "metadata": {},
   "source": [
    "The memory saved by using slots varies according to the number and type of attributes\n",
    "stored  There are many parts of Python that rely on the normal\n",
    "dictionary-based implementation. In addition, classes that define slots don’t support\n",
    "certain features such as multiple inheritance A common misperception of __slots__ is that it is an encapsulation tool that prevents\n",
    "users from adding new attributes to instances. Although this is a side effect of using\n",
    "slots, this was never the original purpose. Instead, __slots__ was always intended to\n",
    "be an optimization tool.\n"
   ]
  },
  {
   "cell_type": "markdown",
   "metadata": {},
   "source": [
    "ITERATER AND GENERATER"
   ]
  },
  {
   "cell_type": "code",
   "execution_count": null,
   "metadata": {},
   "outputs": [],
   "source": [
    "num=[1,5,4,8]\n",
    "ite=iter(num)\n",
    "print(next(ite))# print 1\n",
    "print(next(ite))# print 2 \n",
    "print(ite.__next__())\n",
    "print(type(ite))\n"
   ]
  },
  {
   "cell_type": "markdown",
   "metadata": {},
   "source": [
    "You want to take a slice of data produced by an iterator, but the normal slicing operator\n",
    "doesn’t work.\n",
    "Solution\n",
    "The itertools.islice() function is perfectly suited for taking slices of iterators and\n",
    "generators. For example:\n"
   ]
  },
  {
   "cell_type": "code",
   "execution_count": null,
   "metadata": {},
   "outputs": [],
   "source": [
    "def count(n):\n",
    "    while True:\n",
    "        yield n\n",
    "        n+=1\n",
    "c=count(10)\n",
    "#c[1:5] error \n",
    "import itertools\n",
    "for i in itertools.islice(c,5,10):\n",
    "    print(i)\n"
   ]
  },
  {
   "cell_type": "markdown",
   "metadata": {},
   "source": [
    "Iterators and generators can’t normally be sliced, because no information is known about\n",
    "their length (and they don’t implement indexing). The result of islice() is an iterator\n",
    "that produces the desired slice items, but it does this by consuming and discarding all\n",
    "of the items up to the starting slice index. Further items are then produced by the islice\n",
    "object until the ending index has been reached.\n",
    "It’s important to emphasize that islice() will consume data on the supplied iterator.\n",
    "Since iterators can’t be rewound, that is something to consider. If it’s important to go\n",
    "back, you should probably just turn the data into a list first."
   ]
  },
  {
   "cell_type": "code",
   "execution_count": null,
   "metadata": {},
   "outputs": [],
   "source": [
    "# when we want to leave first few things from iterter\n",
    "list=[None,None,None,4,5,8,2,4,None]\n",
    "ite=iter(list)\n",
    "for line  in itertools.dropwhile(lambda line:line==None,ite):\n",
    "    print(line)\n",
    "#for p in itertools.permutations(list):keep it slow\n",
    "     print(p)   "
   ]
  },
  {
   "cell_type": "markdown",
   "metadata": {},
   "source": [
    "You want to iterate over a sequence, but would like to keep track of which element of\n",
    "the sequence is currently being processed.\n",
    "Solution\n",
    "The built-in enumerate() function handles this quite nicely:"
   ]
  },
  {
   "cell_type": "code",
   "execution_count": null,
   "metadata": {},
   "outputs": [],
   "source": [
    "listt=[1,4,5,6]\n",
    "ite=iter(listt)\n",
    "for idx,vall in enumerate(ite,1):\n",
    "    print(idx,vall)"
   ]
  },
  {
   "cell_type": "markdown",
   "metadata": {},
   "source": [
    "You want to iterate over the items contained in more than one sequence at a time.\n",
    "Solution\n",
    "To iterate over more than one sequence simultaneously, use the zip() function. For\n",
    "example:See below code\n",
    "zip(name , name2) works by creating an iterator that produces tuples (x, y) where x is taken\n",
    "from name and y is taken from name2. Iteration stops whenever one of the input sequences is\n",
    "exhausted. Thus, the length of the iteration is the same as the length of the shortest\n",
    "input"
   ]
  },
  {
   "cell_type": "code",
   "execution_count": null,
   "metadata": {},
   "outputs": [],
   "source": [
    "lisst=[1,4,5,7]\n",
    "lisstt=[1,7,5,7,9,85,96,5]\n",
    "for i in zip(lisst,lisstt):# or for i,ii zip(lisst,lisstt):(next line) print(i,ii)\n",
    "    print(i)"
   ]
  },
  {
   "cell_type": "markdown",
   "metadata": {},
   "source": [
    "itertools.chain() accepts one or more iterables as arguments. It then works by cre‐\n",
    "ating an iterator that successively consumes and returns the items produced by each of\n",
    "the supplied iterables you provided. It’s a subtle distinction, but chain() is more efficient\n",
    "than first combining the sequences and iterating\n",
    "\n"
   ]
  },
  {
   "cell_type": "code",
   "execution_count": null,
   "metadata": {},
   "outputs": [],
   "source": [
    "for i in lisst+lisstt:\n",
    "    print(i)"
   ]
  },
  {
   "cell_type": "code",
   "execution_count": null,
   "metadata": {},
   "outputs": [],
   "source": [
    "for i in itertools.chain(lisst,lisstt):\n",
    "    print(i)"
   ]
  },
  {
   "cell_type": "markdown",
   "metadata": {},
   "source": [
    "In the first case, the operation a + b creates an entirely new sequence and additionally\n",
    "requires a and b to be of the same type. chain() performs no such operation, so it’s far\n",
    "more efficient with memory if the input sequences are large and it can be easily applied\n",
    "when the iterables in question are of different types."
   ]
  },
  {
   "cell_type": "code",
   "execution_count": null,
   "metadata": {},
   "outputs": [],
   "source": []
  },
  {
   "cell_type": "code",
   "execution_count": null,
   "metadata": {},
   "outputs": [],
   "source": []
  },
  {
   "cell_type": "code",
   "execution_count": null,
   "metadata": {},
   "outputs": [],
   "source": []
  },
  {
   "cell_type": "code",
   "execution_count": null,
   "metadata": {},
   "outputs": [],
   "source": []
  },
  {
   "cell_type": "code",
   "execution_count": null,
   "metadata": {},
   "outputs": [],
   "source": []
  },
  {
   "cell_type": "code",
   "execution_count": null,
   "metadata": {},
   "outputs": [],
   "source": []
  },
  {
   "cell_type": "code",
   "execution_count": null,
   "metadata": {},
   "outputs": [],
   "source": []
  },
  {
   "cell_type": "markdown",
   "metadata": {},
   "source": [
    "CLASSWORK"
   ]
  },
  {
   "cell_type": "code",
   "execution_count": null,
   "metadata": {},
   "outputs": [],
   "source": [
    "a = (input(\"Enter the first text = \"))\n",
    "vowel =const=0\n",
    "for i in range(0,len(a)):\n",
    "      if a[i]=='a' or a[i]=='i' or a[i]=='o' or a[i]=='u' or a[i]=='e':\n",
    "          vowel=vowel+1;\n",
    "      else:\n",
    "          const=const+1;\n",
    "print(vowel) \n",
    "print(const)         \n"
   ]
  },
  {
   "cell_type": "code",
   "execution_count": null,
   "metadata": {},
   "outputs": [],
   "source": [
    "a = int(input(\"Enter the range = \"))\n",
    "\n",
    "for i in range(1,a):\n",
    "      \n",
    "      if i%3==0:\n",
    "          print('MI3')\n",
    "      elif i%5==0:\n",
    "          print('MI5')\n",
    "      else:\n",
    "          print(i)\n",
    "\n"
   ]
  },
  {
   "cell_type": "code",
   "execution_count": null,
   "metadata": {},
   "outputs": [],
   "source": [
    "name=\"shivam\"\n",
    "reg=11907694\n",
    "print(\"hello, my name is \",name ,\"and my reg no is \",reg)\n",
    "\n",
    "\n",
    "hello, my name is  shivam and my reg no is  11907694\n"
   ]
  },
  {
   "cell_type": "markdown",
   "metadata": {},
   "source": [
    "# prime number between a given range"
   ]
  },
  {
   "cell_type": "code",
   "execution_count": null,
   "metadata": {},
   "outputs": [],
   "source": [
    "\n",
    "  \n",
    "for num in range(2,100 + 1):  \n",
    "    if num > 1:  \n",
    "       for i in range(2,num):  \n",
    "           if (num % i) == 0:  \n",
    "               break  \n",
    "       else:  \n",
    "           print(num)\n",
    "         "
   ]
  },
  {
   "cell_type": "code",
   "execution_count": null,
   "metadata": {},
   "outputs": [],
   "source": [
    "import array as ar\n",
    "arraysort=ar.array('i',[100,5,85,96,10,52])\n",
    "\n",
    "for i in range(0, len(arraysort)):    \n",
    "    for j in range(i+1, len(arraysort)):    \n",
    "        if(arraysort[i] > arraysort[j]):    \n",
    "            temp = arraysort[i];    \n",
    "            arraysort[i] = arraysort[j];    \n",
    "            arraysort[j] = temp; \n",
    "\n",
    "for i in range(0,len(arraysort)):\n",
    "    print(arraysort[i])            "
   ]
  },
  {
   "cell_type": "markdown",
   "metadata": {},
   "source": [
    "OTHERWORKS"
   ]
  },
  {
   "cell_type": "code",
   "execution_count": null,
   "metadata": {},
   "outputs": [],
   "source": [
    "a=10\n",
    "b=1\n",
    "c=5\n",
    "d=9\n",
    "print((a*b)-c*d)\n",
    "print(((a+d)/c)/d)\n",
    "print((((a*5)*d/6)+10)-100)\n",
    "print(a*5*d/6+10*100)\n"
   ]
  },
  {
   "cell_type": "code",
   "execution_count": null,
   "metadata": {},
   "outputs": [],
   "source": [
    "a=10\n",
    "b=5\n",
    "c=15\n",
    "d=3\n",
    "\n",
    "if a>b:\n",
    "    print(\"a is greater than b\")\n",
    "    if d<c:\n",
    "        print(\"a is greater than b and d is greater than c\")\n",
    "    else:\n",
    "        print(\"c is less than d\")\n",
    "else:\n",
    "    print(\"a is amall\")            \n"
   ]
  },
  {
   "cell_type": "code",
   "execution_count": null,
   "metadata": {},
   "outputs": [],
   "source": [
    "list=[1,4,8,9,8,9,14]\n",
    "x=0\n",
    "for  x in list:\n",
    "     \n",
    "    if x==8:\n",
    "       continue\n",
    "    print(x); \n",
    "else:\n",
    "    print(\"invalid\")    \n"
   ]
  },
  {
   "cell_type": "code",
   "execution_count": null,
   "metadata": {},
   "outputs": [],
   "source": [
    "num1 = int(input(\"Enter a number for checking wheather it is strong or not \"))\n",
    "temp = num1\n",
    "fact = 1\n",
    "sum = 0\n",
    "while(num1!=0):\n",
    "    rem = int(num1 % 10)\n",
    "    print(\"remm\",rem)\n",
    "    fact=1\n",
    "    for i in range(1,rem+1):\n",
    "        fact = fact * i\n",
    "        print(\"fact\",fact)\n",
    "    sum = sum + fact\n",
    "    num1 = int(num1/10)\n",
    "    print(num1)\n",
    "    print(sum)\n",
    "if(sum == temp):\n",
    "    print(\"Number is strong\")\n",
    "else:\n",
    "    print(\"Number is not strong\")"
   ]
  },
  {
   "cell_type": "code",
   "execution_count": null,
   "metadata": {},
   "outputs": [],
   "source": [
    "Number=int(input(\"Enter the number to find zeros of that factorial\"))   \n",
    "sum=0\n",
    "while(Number>0):\n",
    "      s=Number//5;\n",
    "      sum=s+sum;\n",
    "      Number=s;\n",
    "      \n",
    "print(sum)      "
   ]
  },
  {
   "cell_type": "code",
   "execution_count": null,
   "metadata": {},
   "outputs": [],
   "source": [
    "#python program to print the numbers divisible by 5 and 10 between 1 to 100.\n",
    "for i in range(1,101):# range function that give me number between 1 to 100\n",
    "    if i%5==0 and i%10==0: # condtion for checking whether the produced number is divicible \n",
    "        print(i)          # in the last printing those values that satisfies the if condition\n"
   ]
  },
  {
   "cell_type": "code",
   "execution_count": null,
   "metadata": {},
   "outputs": [],
   "source": [
    "#Python program that accepts the input from user and give the square root of the number\n",
    "user_inputed_number=int(input(\"Enter the number to get its square root\"))\n",
    "print(\"User entered the number\",user_inputed_number)\n",
    "square_root_of_given_user_number=user_inputed_number**0.5;\n",
    "print(\"Suare root of \",user_inputed_number,\" is \",int(square_root_of_given_user_number))"
   ]
  },
  {
   "cell_type": "code",
   "execution_count": null,
   "metadata": {},
   "outputs": [],
   "source": [
    "list=[1,4,5,9,\"hii python\"]# a list is a ordered collections of similar and dissimilar elements\n",
    "print(\"Printing the elements of list\",list)# printing the elements of our list\n",
    "list.append(10)# appending the value 10 at the end of the list\n",
    "list.extend(list)# extend will add the another list,set,tuple or other data elements to our list\n",
    "print(list)\n",
    "list.insert(4,50)# inserting the value 50 at the 4 index of our list\n",
    "print(list)\n",
    "print(list.index(\"hii python\"))# printing the index of the passed value if its present in the list\n",
    "list2=[1,4,8,10,5,6,2,5] # a new list with numbers data \n",
    "list2.sort()# sorting will work only on numbers data, will sort the entire list in asending order\n",
    "print(list2)# printing the sorted list"
   ]
  },
  {
   "cell_type": "code",
   "execution_count": null,
   "metadata": {},
   "outputs": [],
   "source": [
    "tuple_creation_exapmle=(1,2,5,9,\"user\",2,'lion')# tuple made with () brackets with dissimilar elements\n",
    "tuple2_with_single_type_elements=(1,4,5,2,8,12,45,1)\n",
    "print(tuple_creation_exapmle)\n",
    "print(tuple2_with_single_type_elements)\n",
    "tuple3_with_only_single_element=('jiii',)#if we remove the comma then it will become string\n",
    "print(tuple3_with_only_single_element,type(tuple3_with_only_single_element))\n",
    "print(tuple_creation_exapmle[5])# we can access elements using index\n",
    "print(tuple2_with_single_type_elements[2:5])# using slicing to get elements between a specific range\n"
   ]
  },
  {
   "cell_type": "code",
   "execution_count": null,
   "metadata": {},
   "outputs": [],
   "source": [
    "list_with_similar_type_elements=[10,51,26,45,1,2,0]# list made with [] bracket\n",
    "print(list_with_similar_type_elements,type(list_with_similar_type_elements))# printing a list and type\n",
    "print(list_with_similar_type_elements[2])# accessing list elements using list indexes\n",
    "print(list_with_similar_type_elements[0:2])#list slicing\n",
    "list_with_similar_type_elements[2]=100# changing list values\n",
    "print(list_with_similar_type_elements)\n"
   ]
  },
  {
   "cell_type": "code",
   "execution_count": null,
   "metadata": {},
   "outputs": [],
   "source": [
    "integer_data_type_example=10\n",
    "print(integer_data_type_example,type(integer_data_type_example))\n",
    "float_data_type_example=5.5\n",
    "print(float_data_type_example,type(float_data_type_example))\n",
    "complex_data_type_example=7+5j\n",
    "print(complex_data_type_example,type(complex_data_type_example))"
   ]
  },
  {
   "cell_type": "code",
   "execution_count": null,
   "metadata": {},
   "outputs": [],
   "source": [
    "boolean_data_type_example=True# a boolean data type holding value true\n",
    "print(boolean_data_type_example,type(boolean_data_type_example))\n"
   ]
  },
  {
   "cell_type": "markdown",
   "metadata": {},
   "source": [
    "Create a function in Python to check whether the item exists in the list or not. If exists, then also print the frequency of that particular item. All the elements must be entered by the user on runtime"
   ]
  },
  {
   "cell_type": "code",
   "execution_count": 19,
   "metadata": {},
   "outputs": [
    {
     "name": "stdout",
     "output_type": "stream",
     "text": [
      "6\n",
      "['Shivam', '4', '7', '85', '96', '85']\n",
      "Item found sucessfully\n",
      "Frequency of the given item 85 is 2\n"
     ]
    }
   ],
   "source": [
    "lenght_of_list=int(input(\"How much elements you want in your list to have.\"))\n",
    "list=[];            #Empty list for storing elements at run time\n",
    "print(lenght_of_list) # printing the number of elemets that our list can hold\n",
    "for i in range(0,lenght_of_list): # a simple for loop for getting elements at run time from user in the list\n",
    "    elements=input()              # getting elements inputs from user\n",
    "    list.append(elements);        # Making the list using elements provided by user\n",
    "\n",
    "def for_checking_element_existence(list,for_element_to_find_in_the_list): # a simple user defined function for checking element existence in list\n",
    "\n",
    "     if for_element_to_find_in_the_list in list: # whether the element is in the list or not return true if element exixt in list\n",
    "        # above if statement condition will internally check the entire list for that element\n",
    "        print(\"Item found sucessfully\")# will work if (if) statment return true\n",
    "        print(\"Frequency of the given item\",for_element_to_find_in_the_list,\"is\",list.count(for_element_to_find_in_the_list))\n",
    "                                       # printing the frequency of the element in the list \n",
    "     else:                             # will work if (if) return false \n",
    "        print(\"Sorry provided item\",for_element_to_find_in_the_list,\"not found in the List ........ TRY AGAIN\")\n",
    "                                       # priniting a corresponding responce for the user to get verified about the element existence in the list\n",
    "\n",
    "# our function will take two positional argument one is the list itself and second is the elements to find in the list\n",
    "# fucntion is not returing anything to our calling function back.\n",
    "\n",
    "\n",
    "print(list)# printing the engtire list \n",
    "for_element_to_find_in_the_list=input(\"Enter the element to search in the list\");# getting the element to find in the list form the user\n",
    "for_checking_element_existence(list,for_element_to_find_in_the_list)# user defined fucntion to check if the element exist in the list or not\n"
   ]
  }
 ],
 "metadata": {
  "interpreter": {
   "hash": "a12d694c3ccac42055183a0ad11e659c6a2db5c6555ad2c8919d5814fd4e404f"
  },
  "kernelspec": {
   "display_name": "Python 3.9.5 64-bit",
   "name": "python3"
  },
  "language_info": {
   "codemirror_mode": {
    "name": "ipython",
    "version": 3
   },
   "file_extension": ".py",
   "mimetype": "text/x-python",
   "name": "python",
   "nbconvert_exporter": "python",
   "pygments_lexer": "ipython3",
   "version": "3.9.5"
  },
  "orig_nbformat": 4
 },
 "nbformat": 4,
 "nbformat_minor": 2
}
